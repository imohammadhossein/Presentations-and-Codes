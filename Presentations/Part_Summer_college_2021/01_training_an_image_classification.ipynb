{
 "cells": [
  {
   "cell_type": "code",
   "execution_count": 1,
   "metadata": {
    "id": "6etHjCo5UVES"
   },
   "outputs": [],
   "source": [
    "# %tensorflow_version 2.x\n",
    "import os\n",
    "import numpy as np\n",
    "import cv2\n",
    "import tensorflow as tf\n",
    "from tensorflow.keras.models import Sequential, Model\n",
    "from tensorflow.keras.layers import Dense, Conv2D, MaxPool2D, Flatten, Dropout, GlobalAveragePooling2D\n",
    "from tensorflow.keras.preprocessing.image import ImageDataGenerator\n",
    "from tensorflow.keras.applications.vgg16 import VGG16\n",
    "from tensorflow.keras.applications import MobileNet\n",
    "from tensorflow.keras.preprocessing import image\n",
    "from keras.applications.mobilenet import preprocess_input\n",
    "from tensorflow.python.framework.ops import disable_eager_execution\n",
    "from tensorflow.keras.optimizers import Adam, SGD\n",
    "from tensorflow.keras.callbacks import ReduceLROnPlateau, ModelCheckpoint\n",
    "from tensorflow.keras.regularizers import l2\n",
    "import random\n",
    "disable_eager_execution()\n"
   ]
  },
  {
   "cell_type": "code",
   "execution_count": 2,
   "metadata": {
    "colab": {
     "base_uri": "https://localhost:8080/"
    },
    "id": "v9Ap776_9fQj",
    "outputId": "b6e3e8ac-7917-4005-fb5c-d788f2263fab"
   },
   "outputs": [
    {
     "name": "stderr",
     "output_type": "stream",
     "text": [
      "'wget' is not recognized as an internal or external command,\n",
      "operable program or batch file.\n"
     ]
    }
   ],
   "source": [
    "!wget --no-check-certificate \\\n",
    "    https://storage.googleapis.com/mledu-datasets/cats_and_dogs_filtered.zip \\\n",
    "    -O /tmp/cats_and_dogs_filtered.zip"
   ]
  },
  {
   "cell_type": "code",
   "execution_count": 3,
   "metadata": {
    "id": "m13-x9ct9qnW"
   },
   "outputs": [],
   "source": [
    "import os\n",
    "import zipfile\n",
    "\n",
    "local_zip = '/tmp/cats_and_dogs_filtered.zip'\n",
    "zip_ref = zipfile.ZipFile(local_zip, 'r')\n",
    "zip_ref.extractall('/tmp')\n",
    "zip_ref.close()"
   ]
  },
  {
   "cell_type": "code",
   "execution_count": 4,
   "metadata": {
    "id": "xJTs0Foa9wne"
   },
   "outputs": [],
   "source": [
    "base_dir = '/tmp/cats_and_dogs_filtered'\n",
    "train_dir = os.path.join(base_dir, 'train')\n",
    "validation_dir = os.path.join(base_dir, 'validation')\n",
    "\n",
    "# Directory with our training cat pictures\n",
    "train_cats_dir = os.path.join(train_dir, 'cats')\n",
    "\n",
    "# Directory with our training dog pictures\n",
    "train_dogs_dir = os.path.join(train_dir, 'dogs')\n",
    "\n",
    "# Directory with our validation cat pictures\n",
    "validation_cats_dir = os.path.join(validation_dir, 'cats')\n",
    "\n",
    "# Directory with our validation dog pictures\n",
    "validation_dogs_dir = os.path.join(validation_dir, 'dogs')"
   ]
  },
  {
   "cell_type": "code",
   "execution_count": 20,
   "metadata": {
    "colab": {
     "base_uri": "https://localhost:8080/"
    },
    "id": "yqNgvakPXEqq",
    "outputId": "2d5e6e73-7b9a-48d9-bd93-5ea743e07b63"
   },
   "outputs": [
    {
     "name": "stdout",
     "output_type": "stream",
     "text": [
      "Found 2000 images belonging to 2 classes.\n",
      "Found 1000 images belonging to 2 classes.\n"
     ]
    }
   ],
   "source": [
    "path_train = train_dir\n",
    "path_test = validation_dir\n",
    "Batch_size = 64\n",
    "trdata = ImageDataGenerator(preprocessing_function=preprocess_input)\n",
    "traindata = trdata.flow_from_directory(directory=path_train,target_size=(224,224), batch_size=Batch_size)\n",
    "\n",
    "val_data = ImageDataGenerator(preprocessing_function=preprocess_input)\n",
    "validation_data = val_data.flow_from_directory(directory=path_test, target_size=(224,224), batch_size=Batch_size)\n"
   ]
  },
  {
   "cell_type": "code",
   "execution_count": 9,
   "metadata": {
    "colab": {
     "base_uri": "https://localhost:8080/"
    },
    "id": "Mio1xtb_-rM9",
    "outputId": "88df61c8-ba19-473c-87e6-757070f2715c"
   },
   "outputs": [
    {
     "name": "stdout",
     "output_type": "stream",
     "text": [
      "WARNING:tensorflow:`input_shape` is undefined or non-square, or `rows` is not in [128, 160, 192, 224]. Weights for input shape (224, 224) will be loaded as the default.\n",
      "WARNING:tensorflow:From /usr/local/lib/python3.7/dist-packages/tensorflow/python/keras/layers/normalization.py:534: _colocate_with (from tensorflow.python.framework.ops) is deprecated and will be removed in a future version.\n",
      "Instructions for updating:\n",
      "Colocations handled automatically by placer.\n",
      "Downloading data from https://storage.googleapis.com/tensorflow/keras-applications/mobilenet/mobilenet_1_0_224_tf_no_top.h5\n",
      "17227776/17225924 [==============================] - 0s 0us/step\n"
     ]
    }
   ],
   "source": [
    "base_model=MobileNet(weights='imagenet',include_top=False) #imports the mobilenet model and discards the last 1000 neuron layer."
   ]
  },
  {
   "cell_type": "code",
   "execution_count": 21,
   "metadata": {
    "id": "5wyvhgpb_YhK"
   },
   "outputs": [],
   "source": [
    "x=base_model.output\n",
    "x=GlobalAveragePooling2D()(x)\n",
    "x=Dense(1024,activation='relu')(x) #we add dense layers so that the model can learn more complex functions and classify for better results.\n",
    "preds=Dense(2,activation='softmax')(x) #final layer with softmax activation"
   ]
  },
  {
   "cell_type": "code",
   "execution_count": 22,
   "metadata": {
    "id": "U3KoqDxv_jrD"
   },
   "outputs": [],
   "source": [
    "model=Model(inputs=base_model.input,outputs=preds)\n",
    "#specify the inputs\n",
    "#specify the outputs\n",
    "#now a model has been created based on our architecture"
   ]
  },
  {
   "cell_type": "code",
   "execution_count": 23,
   "metadata": {
    "id": "ByqBCH5tqKua"
   },
   "outputs": [],
   "source": [
    "opt = SGD(learning_rate=0.01, momentum=0.9)\n",
    "model.compile(optimizer=opt, loss=tf.keras.losses.categorical_crossentropy, metrics=['accuracy'])"
   ]
  },
  {
   "cell_type": "code",
   "execution_count": 24,
   "metadata": {
    "id": "1EBB-TS1ds30"
   },
   "outputs": [],
   "source": [
    "## calbacks\n",
    "reduce_lr = ReduceLROnPlateau(monitor='val_loss', factor=0.1, patience=1, verbose=1)\n",
    "model_checkpoint_callback1 = ModelCheckpoint(\n",
    "    filepath='./model/best_checkpoint',\n",
    "    save_weights_only=False,\n",
    "    monitor='val_accuracy',\n",
    "    mode='max',\n",
    "    save_best_only=True)\n"
   ]
  },
  {
   "cell_type": "code",
   "execution_count": 25,
   "metadata": {
    "colab": {
     "base_uri": "https://localhost:8080/"
    },
    "id": "PoCfKYrOE4mY",
    "outputId": "1acfb9f6-1a35-4aea-81c7-c947dc88c929"
   },
   "outputs": [
    {
     "name": "stdout",
     "output_type": "stream",
     "text": [
      "mkdir: cannot create directory ‘model’: File exists\n"
     ]
    }
   ],
   "source": [
    "! mkdir model"
   ]
  },
  {
   "cell_type": "code",
   "execution_count": 27,
   "metadata": {
    "colab": {
     "base_uri": "https://localhost:8080/"
    },
    "id": "OkZL49phDC3p",
    "outputId": "10dd3656-c070-40e3-de12-5ebd2b3b76bd"
   },
   "outputs": [
    {
     "name": "stdout",
     "output_type": "stream",
     "text": [
      "Epoch 1/10\n",
      "31/31 [==============================] - 15s 493ms/step - batch: 15.0000 - size: 62.4516 - loss: 0.0089 - accuracy: 0.9969 - val_loss: 0.0658 - val_accuracy: 0.9780 - lr: 1.0000e-07\n",
      "Epoch 2/10\n",
      "31/31 [==============================] - 15s 497ms/step - batch: 15.0000 - size: 62.4516 - loss: 0.0084 - accuracy: 0.9979 - val_loss: 0.0646 - val_accuracy: 0.9780 - lr: 1.0000e-07\n",
      "Epoch 3/10\n",
      "31/31 [==============================] - 15s 498ms/step - batch: 15.0000 - size: 62.4516 - loss: 0.0091 - accuracy: 0.9969 - val_loss: 0.0639 - val_accuracy: 0.9800 - lr: 1.0000e-07\n",
      "Epoch 4/10\n",
      "31/31 [==============================] - ETA: 0s - batch: 15.0000 - size: 62.4516 - loss: 0.0119 - accuracy: 0.9928\n",
      "Epoch 00004: ReduceLROnPlateau reducing learning rate to 9.999998695775504e-09.\n",
      "31/31 [==============================] - 16s 509ms/step - batch: 15.0000 - size: 62.4516 - loss: 0.0119 - accuracy: 0.9928 - val_loss: 0.0638 - val_accuracy: 0.9800 - lr: 1.0000e-07\n",
      "Epoch 5/10\n",
      "31/31 [==============================] - ETA: 0s - batch: 15.0000 - size: 62.4516 - loss: 0.0105 - accuracy: 0.9964\n",
      "Epoch 00005: ReduceLROnPlateau reducing learning rate to 9.99999905104687e-10.\n",
      "31/31 [==============================] - 16s 505ms/step - batch: 15.0000 - size: 62.4516 - loss: 0.0105 - accuracy: 0.9964 - val_loss: 0.0639 - val_accuracy: 0.9800 - lr: 1.0000e-08\n",
      "Epoch 6/10\n",
      "31/31 [==============================] - ETA: 0s - batch: 15.0000 - size: 62.4516 - loss: 0.0085 - accuracy: 0.9974\n",
      "Epoch 00006: ReduceLROnPlateau reducing learning rate to 9.999998606957661e-11.\n",
      "31/31 [==============================] - 16s 505ms/step - batch: 15.0000 - size: 62.4516 - loss: 0.0085 - accuracy: 0.9974 - val_loss: 0.0641 - val_accuracy: 0.9800 - lr: 1.0000e-09\n",
      "Epoch 7/10\n",
      "31/31 [==============================] - ETA: 0s - batch: 15.0000 - size: 64.0000 - loss: 0.0136 - accuracy: 0.9950\n",
      "Epoch 00007: ReduceLROnPlateau reducing learning rate to 9.99999874573554e-12.\n",
      "31/31 [==============================] - 16s 514ms/step - batch: 15.0000 - size: 64.0000 - loss: 0.0136 - accuracy: 0.9950 - val_loss: 0.0639 - val_accuracy: 0.9800 - lr: 1.0000e-10\n",
      "Epoch 8/10\n",
      "31/31 [==============================] - ETA: 0s - batch: 15.0000 - size: 60.9032 - loss: 0.0119 - accuracy: 0.9952\n",
      "Epoch 00008: ReduceLROnPlateau reducing learning rate to 9.999999092680235e-13.\n",
      "31/31 [==============================] - 15s 508ms/step - batch: 15.0000 - size: 60.9032 - loss: 0.0119 - accuracy: 0.9952 - val_loss: 0.0640 - val_accuracy: 0.9800 - lr: 1.0000e-11\n",
      "Epoch 9/10\n",
      "31/31 [==============================] - ETA: 0s - batch: 15.0000 - size: 62.4516 - loss: 0.0230 - accuracy: 0.9933\n",
      "Epoch 00009: ReduceLROnPlateau reducing learning rate to 9.9999988758398e-14.\n",
      "31/31 [==============================] - 15s 503ms/step - batch: 15.0000 - size: 62.4516 - loss: 0.0230 - accuracy: 0.9933 - val_loss: 0.0645 - val_accuracy: 0.9790 - lr: 1.0000e-12\n",
      "Epoch 10/10\n",
      "31/31 [==============================] - ETA: 0s - batch: 15.0000 - size: 64.0000 - loss: 0.0049 - accuracy: 0.9980\n",
      "Epoch 00010: ReduceLROnPlateau reducing learning rate to 9.999999146890344e-15.\n",
      "31/31 [==============================] - 16s 513ms/step - batch: 15.0000 - size: 64.0000 - loss: 0.0049 - accuracy: 0.9980 - val_loss: 0.0644 - val_accuracy: 0.9790 - lr: 1.0000e-13\n"
     ]
    }
   ],
   "source": [
    "hist = model.fit(traindata, validation_data=validation_data, epochs=10, steps_per_epoch=int(traindata.samples/Batch_size), callbacks=[reduce_lr, model_checkpoint_callback1])"
   ]
  },
  {
   "cell_type": "code",
   "execution_count": 28,
   "metadata": {
    "colab": {
     "base_uri": "https://localhost:8080/"
    },
    "id": "RJkePflXAhvz",
    "outputId": "c47c6adc-76dc-4693-bdd1-311e3a7ef7c4"
   },
   "outputs": [
    {
     "name": "stdout",
     "output_type": "stream",
     "text": [
      "WARNING:tensorflow:`input_shape` is undefined or non-square, or `rows` is not in [128, 160, 192, 224]. Weights for input shape (224, 224) will be loaded as the default.\n",
      "Model: \"mobilenet_1.00_224\"\n",
      "_________________________________________________________________\n",
      "Layer (type)                 Output Shape              Param #   \n",
      "=================================================================\n",
      "input_2 (InputLayer)         [(None, None, None, 3)]   0         \n",
      "_________________________________________________________________\n",
      "conv1 (Conv2D)               (None, None, None, 32)    864       \n",
      "_________________________________________________________________\n",
      "conv1_bn (BatchNormalization (None, None, None, 32)    128       \n",
      "_________________________________________________________________\n",
      "conv1_relu (ReLU)            (None, None, None, 32)    0         \n",
      "_________________________________________________________________\n",
      "conv_dw_1 (DepthwiseConv2D)  (None, None, None, 32)    288       \n",
      "_________________________________________________________________\n",
      "conv_dw_1_bn (BatchNormaliza (None, None, None, 32)    128       \n",
      "_________________________________________________________________\n",
      "conv_dw_1_relu (ReLU)        (None, None, None, 32)    0         \n",
      "_________________________________________________________________\n",
      "conv_pw_1 (Conv2D)           (None, None, None, 64)    2048      \n",
      "_________________________________________________________________\n",
      "conv_pw_1_bn (BatchNormaliza (None, None, None, 64)    256       \n",
      "_________________________________________________________________\n",
      "conv_pw_1_relu (ReLU)        (None, None, None, 64)    0         \n",
      "_________________________________________________________________\n",
      "conv_pad_2 (ZeroPadding2D)   (None, None, None, 64)    0         \n",
      "_________________________________________________________________\n",
      "conv_dw_2 (DepthwiseConv2D)  (None, None, None, 64)    576       \n",
      "_________________________________________________________________\n",
      "conv_dw_2_bn (BatchNormaliza (None, None, None, 64)    256       \n",
      "_________________________________________________________________\n",
      "conv_dw_2_relu (ReLU)        (None, None, None, 64)    0         \n",
      "_________________________________________________________________\n",
      "conv_pw_2 (Conv2D)           (None, None, None, 128)   8192      \n",
      "_________________________________________________________________\n",
      "conv_pw_2_bn (BatchNormaliza (None, None, None, 128)   512       \n",
      "_________________________________________________________________\n",
      "conv_pw_2_relu (ReLU)        (None, None, None, 128)   0         \n",
      "_________________________________________________________________\n",
      "conv_dw_3 (DepthwiseConv2D)  (None, None, None, 128)   1152      \n",
      "_________________________________________________________________\n",
      "conv_dw_3_bn (BatchNormaliza (None, None, None, 128)   512       \n",
      "_________________________________________________________________\n",
      "conv_dw_3_relu (ReLU)        (None, None, None, 128)   0         \n",
      "_________________________________________________________________\n",
      "conv_pw_3 (Conv2D)           (None, None, None, 128)   16384     \n",
      "_________________________________________________________________\n",
      "conv_pw_3_bn (BatchNormaliza (None, None, None, 128)   512       \n",
      "_________________________________________________________________\n",
      "conv_pw_3_relu (ReLU)        (None, None, None, 128)   0         \n",
      "_________________________________________________________________\n",
      "conv_pad_4 (ZeroPadding2D)   (None, None, None, 128)   0         \n",
      "_________________________________________________________________\n",
      "conv_dw_4 (DepthwiseConv2D)  (None, None, None, 128)   1152      \n",
      "_________________________________________________________________\n",
      "conv_dw_4_bn (BatchNormaliza (None, None, None, 128)   512       \n",
      "_________________________________________________________________\n",
      "conv_dw_4_relu (ReLU)        (None, None, None, 128)   0         \n",
      "_________________________________________________________________\n",
      "conv_pw_4 (Conv2D)           (None, None, None, 256)   32768     \n",
      "_________________________________________________________________\n",
      "conv_pw_4_bn (BatchNormaliza (None, None, None, 256)   1024      \n",
      "_________________________________________________________________\n",
      "conv_pw_4_relu (ReLU)        (None, None, None, 256)   0         \n",
      "_________________________________________________________________\n",
      "conv_dw_5 (DepthwiseConv2D)  (None, None, None, 256)   2304      \n",
      "_________________________________________________________________\n",
      "conv_dw_5_bn (BatchNormaliza (None, None, None, 256)   1024      \n",
      "_________________________________________________________________\n",
      "conv_dw_5_relu (ReLU)        (None, None, None, 256)   0         \n",
      "_________________________________________________________________\n",
      "conv_pw_5 (Conv2D)           (None, None, None, 256)   65536     \n",
      "_________________________________________________________________\n",
      "conv_pw_5_bn (BatchNormaliza (None, None, None, 256)   1024      \n",
      "_________________________________________________________________\n",
      "conv_pw_5_relu (ReLU)        (None, None, None, 256)   0         \n",
      "_________________________________________________________________\n",
      "conv_pad_6 (ZeroPadding2D)   (None, None, None, 256)   0         \n",
      "_________________________________________________________________\n",
      "conv_dw_6 (DepthwiseConv2D)  (None, None, None, 256)   2304      \n",
      "_________________________________________________________________\n",
      "conv_dw_6_bn (BatchNormaliza (None, None, None, 256)   1024      \n",
      "_________________________________________________________________\n",
      "conv_dw_6_relu (ReLU)        (None, None, None, 256)   0         \n",
      "_________________________________________________________________\n",
      "conv_pw_6 (Conv2D)           (None, None, None, 512)   131072    \n",
      "_________________________________________________________________\n",
      "conv_pw_6_bn (BatchNormaliza (None, None, None, 512)   2048      \n",
      "_________________________________________________________________\n",
      "conv_pw_6_relu (ReLU)        (None, None, None, 512)   0         \n",
      "_________________________________________________________________\n",
      "conv_dw_7 (DepthwiseConv2D)  (None, None, None, 512)   4608      \n",
      "_________________________________________________________________\n",
      "conv_dw_7_bn (BatchNormaliza (None, None, None, 512)   2048      \n",
      "_________________________________________________________________\n",
      "conv_dw_7_relu (ReLU)        (None, None, None, 512)   0         \n",
      "_________________________________________________________________\n",
      "conv_pw_7 (Conv2D)           (None, None, None, 512)   262144    \n",
      "_________________________________________________________________\n",
      "conv_pw_7_bn (BatchNormaliza (None, None, None, 512)   2048      \n",
      "_________________________________________________________________\n",
      "conv_pw_7_relu (ReLU)        (None, None, None, 512)   0         \n",
      "_________________________________________________________________\n",
      "conv_dw_8 (DepthwiseConv2D)  (None, None, None, 512)   4608      \n",
      "_________________________________________________________________\n",
      "conv_dw_8_bn (BatchNormaliza (None, None, None, 512)   2048      \n",
      "_________________________________________________________________\n",
      "conv_dw_8_relu (ReLU)        (None, None, None, 512)   0         \n",
      "_________________________________________________________________\n",
      "conv_pw_8 (Conv2D)           (None, None, None, 512)   262144    \n",
      "_________________________________________________________________\n",
      "conv_pw_8_bn (BatchNormaliza (None, None, None, 512)   2048      \n",
      "_________________________________________________________________\n",
      "conv_pw_8_relu (ReLU)        (None, None, None, 512)   0         \n",
      "_________________________________________________________________\n",
      "conv_dw_9 (DepthwiseConv2D)  (None, None, None, 512)   4608      \n",
      "_________________________________________________________________\n",
      "conv_dw_9_bn (BatchNormaliza (None, None, None, 512)   2048      \n",
      "_________________________________________________________________\n",
      "conv_dw_9_relu (ReLU)        (None, None, None, 512)   0         \n",
      "_________________________________________________________________\n",
      "conv_pw_9 (Conv2D)           (None, None, None, 512)   262144    \n",
      "_________________________________________________________________\n",
      "conv_pw_9_bn (BatchNormaliza (None, None, None, 512)   2048      \n",
      "_________________________________________________________________\n",
      "conv_pw_9_relu (ReLU)        (None, None, None, 512)   0         \n",
      "_________________________________________________________________\n",
      "conv_dw_10 (DepthwiseConv2D) (None, None, None, 512)   4608      \n",
      "_________________________________________________________________\n",
      "conv_dw_10_bn (BatchNormaliz (None, None, None, 512)   2048      \n",
      "_________________________________________________________________\n",
      "conv_dw_10_relu (ReLU)       (None, None, None, 512)   0         \n",
      "_________________________________________________________________\n",
      "conv_pw_10 (Conv2D)          (None, None, None, 512)   262144    \n",
      "_________________________________________________________________\n",
      "conv_pw_10_bn (BatchNormaliz (None, None, None, 512)   2048      \n",
      "_________________________________________________________________\n",
      "conv_pw_10_relu (ReLU)       (None, None, None, 512)   0         \n",
      "_________________________________________________________________\n",
      "conv_dw_11 (DepthwiseConv2D) (None, None, None, 512)   4608      \n",
      "_________________________________________________________________\n",
      "conv_dw_11_bn (BatchNormaliz (None, None, None, 512)   2048      \n",
      "_________________________________________________________________\n",
      "conv_dw_11_relu (ReLU)       (None, None, None, 512)   0         \n",
      "_________________________________________________________________\n",
      "conv_pw_11 (Conv2D)          (None, None, None, 512)   262144    \n",
      "_________________________________________________________________\n",
      "conv_pw_11_bn (BatchNormaliz (None, None, None, 512)   2048      \n",
      "_________________________________________________________________\n",
      "conv_pw_11_relu (ReLU)       (None, None, None, 512)   0         \n",
      "_________________________________________________________________\n",
      "conv_pad_12 (ZeroPadding2D)  (None, None, None, 512)   0         \n",
      "_________________________________________________________________\n",
      "conv_dw_12 (DepthwiseConv2D) (None, None, None, 512)   4608      \n",
      "_________________________________________________________________\n",
      "conv_dw_12_bn (BatchNormaliz (None, None, None, 512)   2048      \n",
      "_________________________________________________________________\n",
      "conv_dw_12_relu (ReLU)       (None, None, None, 512)   0         \n",
      "_________________________________________________________________\n",
      "conv_pw_12 (Conv2D)          (None, None, None, 1024)  524288    \n",
      "_________________________________________________________________\n",
      "conv_pw_12_bn (BatchNormaliz (None, None, None, 1024)  4096      \n",
      "_________________________________________________________________\n",
      "conv_pw_12_relu (ReLU)       (None, None, None, 1024)  0         \n",
      "_________________________________________________________________\n",
      "conv_dw_13 (DepthwiseConv2D) (None, None, None, 1024)  9216      \n",
      "_________________________________________________________________\n",
      "conv_dw_13_bn (BatchNormaliz (None, None, None, 1024)  4096      \n",
      "_________________________________________________________________\n",
      "conv_dw_13_relu (ReLU)       (None, None, None, 1024)  0         \n",
      "_________________________________________________________________\n",
      "conv_pw_13 (Conv2D)          (None, None, None, 1024)  1048576   \n",
      "_________________________________________________________________\n",
      "conv_pw_13_bn (BatchNormaliz (None, None, None, 1024)  4096      \n",
      "_________________________________________________________________\n",
      "conv_pw_13_relu (ReLU)       (None, None, None, 1024)  0         \n",
      "_________________________________________________________________\n",
      "global_average_pooling2d_2 ( (None, 1024)              0         \n",
      "=================================================================\n",
      "Total params: 3,228,864\n",
      "Trainable params: 3,206,976\n",
      "Non-trainable params: 21,888\n",
      "_________________________________________________________________\n"
     ]
    }
   ],
   "source": [
    "mobilenet_topless = MobileNet(weights='imagenet', include_top=False, pooling='avg')\n",
    "mobilenet_topless.summary()"
   ]
  },
  {
   "cell_type": "code",
   "execution_count": 29,
   "metadata": {
    "colab": {
     "base_uri": "https://localhost:8080/"
    },
    "id": "UUCu7tUBFiy3",
    "outputId": "d0403525-aa14-4a20-d9cf-198cfdf74aab"
   },
   "outputs": [
    {
     "name": "stderr",
     "output_type": "stream",
     "text": [
      "/usr/local/lib/python3.7/dist-packages/tensorflow/python/keras/engine/training.py:2426: UserWarning: `Model.state_updates` will be removed in a future version. This property should not be used in TensorFlow 2.0, as `updates` are applied automatically.\n",
      "  warnings.warn('`Model.state_updates` will be removed in a future version. '\n"
     ]
    }
   ],
   "source": [
    "img_path = 'elephant.JPEG'\n",
    "img = image.load_img(img_path, target_size=(224, 224))\n",
    "img_data = image.img_to_array(img)\n",
    "img_data = np.expand_dims(img_data, axis=0)\n",
    "img_data = preprocess_input(img_data)\n",
    "\n",
    "mobilenet_feature = mobilenet_topless.predict(img_data)"
   ]
  },
  {
   "cell_type": "code",
   "execution_count": 31,
   "metadata": {
    "colab": {
     "base_uri": "https://localhost:8080/"
    },
    "id": "QZVh5CLBBp2w",
    "outputId": "fcf6b2e7-efb3-442b-b392-75346d9c559d"
   },
   "outputs": [
    {
     "name": "stdout",
     "output_type": "stream",
     "text": [
      "[[1.4634607e+00 0.0000000e+00 3.4115078e+00 ... 2.1817931e-03\n",
      "  3.9770585e-01 6.5536790e-02]] (1, 1024)\n"
     ]
    }
   ],
   "source": [
    "print(mobilenet_feature, mobilenet_feature.shape)"
   ]
  },
  {
   "cell_type": "code",
   "execution_count": 33,
   "metadata": {
    "colab": {
     "base_uri": "https://localhost:8080/"
    },
    "id": "v_jNcZTMBsCI",
    "outputId": "79a55258-78f8-46b4-92c0-b0f933fb0106"
   },
   "outputs": [
    {
     "name": "stderr",
     "output_type": "stream",
     "text": [
      "/usr/local/lib/python3.7/dist-packages/tensorflow/python/keras/engine/training.py:2426: UserWarning: `Model.state_updates` will be removed in a future version. This property should not be used in TensorFlow 2.0, as `updates` are applied automatically.\n",
      "  warnings.warn('`Model.state_updates` will be removed in a future version. '\n"
     ]
    }
   ],
   "source": [
    "layer_name = 'conv_pw_2'\n",
    "intermediate_layer_model = Model(inputs=mobilenet_topless.input,\n",
    "                                 outputs=mobilenet_topless.get_layer(layer_name).output)\n",
    "intermediate_output = intermediate_layer_model.predict(img_data)"
   ]
  },
  {
   "cell_type": "code",
   "execution_count": 35,
   "metadata": {
    "colab": {
     "base_uri": "https://localhost:8080/"
    },
    "id": "Tc-_7_i_CVXR",
    "outputId": "8ff7d756-6cab-40c6-fdee-f666e46d5770"
   },
   "outputs": [
    {
     "name": "stdout",
     "output_type": "stream",
     "text": [
      "[[[[-6.898582    0.16693354  0.21672018 ...  0.39833194 -0.3577439\n",
      "    -1.1823068 ]\n",
      "   [-7.176694   -0.08222113  0.3484465  ...  0.31386063 -0.18230431\n",
      "    -0.9712083 ]\n",
      "   [-7.1079893  -0.09013498  0.05796991 ...  0.51744777 -0.22997679\n",
      "    -1.0046074 ]\n",
      "   ...\n",
      "   [-7.1391664  -0.16828789  0.4661972  ...  0.33083448 -0.42511734\n",
      "     0.3218016 ]\n",
      "   [-7.281604   -0.00931009  0.10628615 ...  0.34451562 -0.6007021\n",
      "     0.47500598]\n",
      "   [-5.577486    1.6338406   0.39726943 ...  0.45652598 -0.20085168\n",
      "     0.6486339 ]]\n",
      "\n",
      "  [[-7.026533    0.12801538  0.3230431  ...  0.1392549  -0.64967984\n",
      "    -1.0446903 ]\n",
      "   [-6.416327   -0.323837   -0.02983422 ...  0.32237428 -0.6207523\n",
      "    -0.93541694]\n",
      "   [-6.5229225  -0.2314368  -0.04065886 ...  0.3614157  -0.5672194\n",
      "    -0.8640842 ]\n",
      "   ...\n",
      "   [-6.640675   -0.37015325  0.37367377 ...  0.52493906 -0.7358516\n",
      "     0.32671538]\n",
      "   [-6.634864   -0.21942906  0.07716984 ...  0.35733894 -0.9423119\n",
      "     0.43597075]\n",
      "   [-5.518675    1.5136993   0.19621639 ...  0.4167543  -0.6056139\n",
      "     0.5568924 ]]\n",
      "\n",
      "  [[-7.155293    0.16376652  0.24564618 ...  0.19379179 -0.633235\n",
      "    -0.96391684]\n",
      "   [-6.405123   -0.32177287 -0.05866855 ...  0.29309484 -0.73011875\n",
      "    -0.913218  ]\n",
      "   [-6.4523726  -0.19834304  0.17761569 ...  0.34800532 -0.39255095\n",
      "    -0.92025065]\n",
      "   ...\n",
      "   [-6.7140923  -0.43788153  0.35819545 ...  0.4761154  -0.72133136\n",
      "     0.36893275]\n",
      "   [-6.7585874  -0.20740372  0.30917668 ...  0.57086647 -0.6883453\n",
      "     0.44014272]\n",
      "   [-5.5431714   1.5377946   0.21492968 ...  0.5443459  -0.62826806\n",
      "     0.5043354 ]]\n",
      "\n",
      "  ...\n",
      "\n",
      "  [[-4.7150273   2.1189623  -1.224173   ...  0.11747557 -0.55943006\n",
      "     0.32660425]\n",
      "   [-5.522039    2.0491657  -0.8637302  ...  1.0085279  -0.820107\n",
      "    -0.7148228 ]\n",
      "   [-5.8330574   1.9222726  -1.1067375  ...  0.9292966  -1.8028663\n",
      "    -1.2864985 ]\n",
      "   ...\n",
      "   [-4.172863    1.9452013   0.1203234  ...  0.43045068 -0.8108851\n",
      "    -0.74785644]\n",
      "   [-4.739576    1.851147   -0.75783074 ... -0.45058763 -0.67169094\n",
      "     0.02870558]\n",
      "   [-5.6311493   3.4192114  -0.0865107  ...  0.469096    0.20254959\n",
      "    -0.14308082]]\n",
      "\n",
      "  [[-4.8570104   2.2397373  -0.5180556  ... -0.4999733  -0.25388965\n",
      "     0.07609943]\n",
      "   [-4.296174    2.2484534  -0.4172584  ... -0.6085224  -0.24304192\n",
      "    -0.31962702]\n",
      "   [-4.0140514   1.9416331  -0.74098086 ... -0.49107307 -0.15753403\n",
      "     0.6120515 ]\n",
      "   ...\n",
      "   [-6.1249614   1.8640673   0.6497934  ...  0.06234737  0.44300088\n",
      "    -0.50833327]\n",
      "   [-6.189472    1.8483841   0.34543252 ... -0.15315022 -0.7280871\n",
      "    -1.4250622 ]\n",
      "   [-4.4907427   3.4081597  -0.25277677 ...  0.45633107  0.25287008\n",
      "    -0.316011  ]]\n",
      "\n",
      "  [[-5.366119    3.1672676  -0.26360992 ... -0.51801246 -1.2738159\n",
      "    -0.721547  ]\n",
      "   [-6.1147323   3.2718866  -0.44175676 ... -0.26600173 -0.6635588\n",
      "     0.01444771]\n",
      "   [-6.019034    3.2210402  -1.0124716  ... -0.08952677 -0.9242024\n",
      "    -1.1492372 ]\n",
      "   ...\n",
      "   [-7.0698934   2.9322133  -0.5213163  ...  0.65964425 -1.5168599\n",
      "    -1.6085547 ]\n",
      "   [-7.1370935   2.7732725  -0.80908304 ...  0.695927   -1.1751531\n",
      "    -0.41282812]\n",
      "   [-5.5737524   3.816947   -0.46063358 ...  1.3462385  -0.5743653\n",
      "    -0.636026  ]]]] (1, 56, 56, 128)\n"
     ]
    }
   ],
   "source": [
    "print(intermediate_output, intermediate_output.shape)"
   ]
  },
  {
   "cell_type": "code",
   "execution_count": null,
   "metadata": {
    "id": "QK3UabhKCaP4"
   },
   "outputs": [],
   "source": []
  }
 ],
 "metadata": {
  "accelerator": "GPU",
  "colab": {
   "collapsed_sections": [],
   "name": "01_training_an_image_classification.ipynb",
   "provenance": []
  },
  "kernelspec": {
   "display_name": "Python 3",
   "language": "python",
   "name": "python3"
  },
  "language_info": {
   "codemirror_mode": {
    "name": "ipython",
    "version": 3
   },
   "file_extension": ".py",
   "mimetype": "text/x-python",
   "name": "python",
   "nbconvert_exporter": "python",
   "pygments_lexer": "ipython3",
   "version": "3.6.8"
  }
 },
 "nbformat": 4,
 "nbformat_minor": 1
}
